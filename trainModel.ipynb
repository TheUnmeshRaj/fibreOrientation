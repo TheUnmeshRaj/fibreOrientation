{
 "cells": [
  {
   "cell_type": "code",
   "execution_count": 16,
   "id": "ec9d6113",
   "metadata": {},
   "outputs": [],
   "source": [
    "# !pip install torch torchvision matplotlib"
   ]
  },
  {
   "cell_type": "code",
   "execution_count": 17,
   "id": "80d4202b",
   "metadata": {},
   "outputs": [
    {
     "name": "stdout",
     "output_type": "stream",
     "text": [
      "Epoch 1/6 - Loss: 1.4976 - Acc: 0.0000\n",
      "Epoch 2/6 - Loss: 0.2445 - Acc: 1.0000\n",
      "Epoch 3/6 - Loss: 0.0722 - Acc: 1.0000\n",
      "Epoch 4/6 - Loss: 0.0333 - Acc: 1.0000\n",
      "Epoch 5/6 - Loss: 0.0193 - Acc: 1.0000\n",
      "Epoch 6/6 - Loss: 0.0128 - Acc: 1.0000\n"
     ]
    }
   ],
   "source": [
    "import os\n",
    "from torchvision import datasets, transforms, models\n",
    "from torch.utils.data import DataLoader\n",
    "import torch\n",
    "import torch.nn as nn\n",
    "import torch.optim as optim\n",
    "import matplotlib.pyplot as plt\n",
    "\n",
    "data_dir = \"newDataset\"\n",
    "num_classes = 4\n",
    "batch_size = 16\n",
    "epochs = 6\n",
    "device = torch.device('cpu')\n",
    "\n",
    "transform = transforms.Compose([\n",
    "    transforms.Resize((224,224)),\n",
    "    transforms.ToTensor(),\n",
    "])\n",
    "\n",
    "dataset = datasets.ImageFolder(data_dir, transform=transform)\n",
    "dataloader = DataLoader(dataset, batch_size=batch_size, shuffle=True)\n",
    "class_names = dataset.classes  \n",
    "\n",
    "# Model\n",
    "model = models.resnet18(pretrained=True)\n",
    "model.fc = nn.Linear(model.fc.in_features, num_classes)\n",
    "model = model.to(device)\n",
    "\n",
    "criterion = nn.CrossEntropyLoss()\n",
    "optimizer = optim.Adam(model.parameters(), lr=1e-4)\n",
    "\n",
    "for epoch in range(epochs):\n",
    "    model.train()\n",
    "    running_loss = 0\n",
    "    correct = 0\n",
    "    total = 0\n",
    "\n",
    "    for inputs, labels in dataloader:\n",
    "        inputs, labels = inputs.to(device), labels.to(device)\n",
    "        optimizer.zero_grad()\n",
    "        outputs = model(inputs)\n",
    "        loss = criterion(outputs, labels)\n",
    "        loss.backward()\n",
    "        optimizer.step()\n",
    "\n",
    "        running_loss += loss.item() * inputs.size(0)\n",
    "        _, preds = torch.max(outputs, 1)\n",
    "        correct += (preds == labels).sum().item()\n",
    "        total += labels.size(0)\n",
    "\n",
    "    epoch_loss = running_loss / total\n",
    "    epoch_acc = correct / total\n",
    "    print(f\"Epoch {epoch+1}/{epochs} - Loss: {epoch_loss:.4f} - Acc: {epoch_acc:.4f}\")\n",
    "\n",
    "torch.save(model.state_dict(), \"newfiber_model.pth\")"
   ]
  },
  {
   "cell_type": "code",
   "execution_count": 18,
   "id": "eb3a4b6f",
   "metadata": {},
   "outputs": [],
   "source": [
    "import os\n",
    "from PIL import Image\n",
    "import torch\n",
    "from torchvision import transforms, models\n",
    "\n",
    "device = torch.device('cuda' if torch.cuda.is_available() else 'cpu')\n",
    "\n",
    "num_classes = 4\n",
    "model = models.resnet18(pretrained=False)\n",
    "model.fc = torch.nn.Linear(model.fc.in_features, num_classes)\n",
    "model.load_state_dict(torch.load(\"newfiber_model.pth\", map_location=device))\n",
    "model.to(device)\n",
    "model.eval()\n",
    "\n",
    "class_names = ['angle_plied', 'cross_plied', 'longitudinal', 'transverse']\n",
    "\n",
    "transform = transforms.Compose([\n",
    "    transforms.Resize((224, 224)),\n",
    "    transforms.Lambda(lambda x: x.convert(\"RGB\")),\n",
    "    transforms.ToTensor(),\n",
    "])"
   ]
  },
  {
   "cell_type": "code",
   "execution_count": 19,
   "id": "dd23b168",
   "metadata": {},
   "outputs": [
    {
     "name": "stdout",
     "output_type": "stream",
     "text": [
      "Processing folder: angled_plied\n",
      "angled.png: angle_plied\n",
      "image.png: angle_plied\n",
      "Processing folder: cross_plied\n",
      "cross.png: cross_plied\n",
      "image.png: cross_plied\n",
      "image1.png: cross_plied\n",
      "Processing folder: longitudinal\n",
      "long.png: longitudinal\n",
      "Processing folder: transverse\n",
      "trans.png: transverse\n"
     ]
    }
   ],
   "source": [
    "\n",
    "def predict_folder(folder_path):\n",
    "    results = {}\n",
    "    for fname in os.listdir(folder_path):\n",
    "        if not fname.lower().endswith(('.png', '.jpg', '.jpeg')):\n",
    "            continue\n",
    "        img_path = os.path.join(folder_path, fname)\n",
    "        img = Image.open(img_path)\n",
    "        img = transform(img).unsqueeze(0).to(device)\n",
    "        with torch.no_grad():\n",
    "            output = model(img)\n",
    "            _, pred = torch.max(output, 1)\n",
    "        results[fname] = class_names[pred.item()]\n",
    "    return results\n",
    "\n",
    "# Example usage\n",
    "data_dir = \"newDataset\"  # \n",
    "for folder in os.listdir(data_dir):\n",
    "    folder_path = os.path.join(data_dir, folder)\n",
    "    if os.path.isdir(folder_path):\n",
    "        print(f\"Processing folder: {folder}\")\n",
    "        predictions = predict_folder(folder_path)\n",
    "        for img_name, pred_class in predictions.items():\n",
    "            print(f\"{img_name}: {pred_class}\")\n"
   ]
  },
  {
   "cell_type": "code",
   "execution_count": 23,
   "id": "87275acb",
   "metadata": {},
   "outputs": [
    {
     "name": "stdout",
     "output_type": "stream",
     "text": [
      "Prediction: angle_plied fibre orientation\n",
      "Prediction: longitudinal fibre orientation\n",
      "Prediction: transverse fibre orientation\n",
      "Prediction: cross_plied fibre orientation\n"
     ]
    }
   ],
   "source": [
    "from PIL import Image\n",
    "import torch\n",
    "\n",
    "def predict_custom_image(image_path, model, transform, class_names, device):\n",
    "    model.eval()\n",
    "    img = Image.open(image_path)\n",
    "    img = transform(img).unsqueeze(0).to(device)\n",
    "    with torch.no_grad():\n",
    "        output = model(img)\n",
    "        _, pred = torch.max(output, 1)\n",
    "    return class_names[pred.item()]\n",
    "    \n",
    "print(f\"Prediction: {predict_custom_image('angled.png', model, transform, class_names, device)} fibre orientation\")\n",
    "print(f\"Prediction: {predict_custom_image('long.png', model, transform, class_names, device)} fibre orientation\")\n",
    "print(f\"Prediction: {predict_custom_image('trans.png', model, transform, class_names, device)} fibre orientation\")\n",
    "print(f\"Prediction: {predict_custom_image('cross.png', model, transform, class_names, device)} fibre orientation\")"
   ]
  }
 ],
 "metadata": {
  "kernelspec": {
   "display_name": "orient",
   "language": "python",
   "name": "python3"
  },
  "language_info": {
   "codemirror_mode": {
    "name": "ipython",
    "version": 3
   },
   "file_extension": ".py",
   "mimetype": "text/x-python",
   "name": "python",
   "nbconvert_exporter": "python",
   "pygments_lexer": "ipython3",
   "version": "3.10.18"
  }
 },
 "nbformat": 4,
 "nbformat_minor": 5
}
