{
 "cells": [
  {
   "cell_type": "code",
   "execution_count": 1,
   "id": "ec9d6113",
   "metadata": {},
   "outputs": [],
   "source": [
    "# !pip install torch torchvision matplotlib"
   ]
  },
  {
   "cell_type": "code",
   "execution_count": 1,
   "id": "80d4202b",
   "metadata": {},
   "outputs": [
    {
     "name": "stderr",
     "output_type": "stream",
     "text": [
      "c:\\Users\\unmes\\anaconda3\\envs\\orient\\lib\\site-packages\\torchvision\\models\\_utils.py:208: UserWarning: The parameter 'pretrained' is deprecated since 0.13 and may be removed in the future, please use 'weights' instead.\n",
      "  warnings.warn(\n",
      "c:\\Users\\unmes\\anaconda3\\envs\\orient\\lib\\site-packages\\torchvision\\models\\_utils.py:223: UserWarning: Arguments other than a weight enum or `None` for 'weights' are deprecated since 0.13 and may be removed in the future. The current behavior is equivalent to passing `weights=ResNet18_Weights.IMAGENET1K_V1`. You can also use `weights=ResNet18_Weights.DEFAULT` to get the most up-to-date weights.\n",
      "  warnings.warn(msg)\n"
     ]
    },
    {
     "name": "stdout",
     "output_type": "stream",
     "text": [
      "Epoch 1/6 - Loss: 0.5183 - Acc: 0.7750\n",
      "Epoch 2/6 - Loss: 0.1220 - Acc: 0.9750\n",
      "Epoch 3/6 - Loss: 0.0707 - Acc: 1.0000\n",
      "Epoch 4/6 - Loss: 0.0535 - Acc: 0.9750\n",
      "Epoch 5/6 - Loss: 0.0148 - Acc: 1.0000\n",
      "Epoch 6/6 - Loss: 0.0060 - Acc: 1.0000\n"
     ]
    }
   ],
   "source": [
    "import os\n",
    "from torchvision import datasets, transforms, models\n",
    "from torch.utils.data import DataLoader\n",
    "import torch\n",
    "import torch.nn as nn\n",
    "import torch.optim as optim\n",
    "import matplotlib.pyplot as plt\n",
    "\n",
    "data_dir = \"unData\"\n",
    "num_classes = 2\n",
    "batch_size = 16\n",
    "epochs = 6\n",
    "device = torch.device('cpu')\n",
    "\n",
    "transform = transforms.Compose([\n",
    "    transforms.Resize((224,224)),\n",
    "    transforms.ToTensor(),\n",
    "])\n",
    "\n",
    "dataset = datasets.ImageFolder(data_dir, transform=transform)\n",
    "dataloader = DataLoader(dataset, batch_size=batch_size, shuffle=True)\n",
    "class_names = dataset.classes  \n",
    "\n",
    "# Model\n",
    "model = models.resnet18(pretrained=True)\n",
    "model.fc = nn.Linear(model.fc.in_features, num_classes)\n",
    "model = model.to(device)\n",
    "\n",
    "criterion = nn.CrossEntropyLoss()\n",
    "optimizer = optim.Adam(model.parameters(), lr=1e-4)\n",
    "\n",
    "for epoch in range(epochs):\n",
    "    model.train()\n",
    "    running_loss = 0\n",
    "    correct = 0\n",
    "    total = 0\n",
    "\n",
    "    for inputs, labels in dataloader:\n",
    "        inputs, labels = inputs.to(device), labels.to(device)\n",
    "        optimizer.zero_grad()\n",
    "        outputs = model(inputs)\n",
    "        loss = criterion(outputs, labels)\n",
    "        loss.backward()\n",
    "        optimizer.step()\n",
    "\n",
    "        running_loss += loss.item() * inputs.size(0)\n",
    "        _, preds = torch.max(outputs, 1)\n",
    "        correct += (preds == labels).sum().item()\n",
    "        total += labels.size(0)\n",
    "\n",
    "    epoch_loss = running_loss / total\n",
    "    epoch_acc = correct / total\n",
    "    print(f\"Epoch {epoch+1}/{epochs} - Loss: {epoch_loss:.4f} - Acc: {epoch_acc:.4f}\")\n",
    "\n",
    "torch.save(model.state_dict(), \"newfiber_model.pth\")"
   ]
  },
  {
   "cell_type": "code",
   "execution_count": 5,
   "id": "eb3a4b6f",
   "metadata": {},
   "outputs": [],
   "source": [
    "import os\n",
    "from PIL import Image\n",
    "import torch\n",
    "from torchvision import transforms, models\n",
    "\n",
    "device = torch.device('cuda' if torch.cuda.is_available() else 'cpu')\n",
    "\n",
    "num_classes = 2\n",
    "model = models.resnet18(pretrained=False)\n",
    "model.fc = torch.nn.Linear(model.fc.in_features, num_classes)\n",
    "model.load_state_dict(torch.load(\"newfiber_model.pth\", map_location=device))\n",
    "model.to(device)\n",
    "model.eval()\n",
    "\n",
    "class_names = ['bidirectional','unidirectional']\n",
    "\n",
    "transform = transforms.Compose([\n",
    "    transforms.Resize((224, 224)),\n",
    "    transforms.Lambda(lambda x: x.convert(\"RGB\")),\n",
    "    transforms.ToTensor(),\n",
    "])"
   ]
  },
  {
   "cell_type": "code",
   "execution_count": 6,
   "id": "dd23b168",
   "metadata": {},
   "outputs": [
    {
     "name": "stdout",
     "output_type": "stream",
     "text": [
      "Processing folder: bidirectional\n",
      "12.png: bidirectional\n",
      "14.png: bidirectional\n",
      "87.png: bidirectional\n",
      "9898.png: bidirectional\n",
      "baad.png: bidirectional\n",
      "bidu.png: bidirectional\n",
      "i8y8qw.png: bidirectional\n",
      "image copy.png: bidirectional\n",
      "image.png: bidirectional\n",
      "image1.png: bidirectional\n",
      "image12.png: bidirectional\n",
      "iojiji.png: bidirectional\n",
      "kya.png: bidirectional\n",
      "nahi.png: bidirectional\n",
      "ok12.png: bidirectional\n",
      "plpl.png: bidirectional\n",
      "poque.png: bidirectional\n",
      "q.png: bidirectional\n",
      "qwe.png: bidirectional\n",
      "uhhu.png: bidirectional\n",
      "Processing folder: unidirectional\n",
      "achha.png: unidirectional\n",
      "bet.png: unidirectional\n",
      "chalo.png: unidirectional\n",
      "cof.png: unidirectional\n",
      "high-strength-carbon-fabric-CTech-LLC.jpg: unidirectional\n",
      "jack.png: unidirectional\n",
      "koi.png: unidirectional\n",
      "left.png: unidirectional\n",
      "muh.png: unidirectional\n",
      "mushk.png: unidirectional\n",
      "nee.png: unidirectional\n",
      "oggy.png: unidirectional\n",
      "ohah.png: unidirectional\n",
      "okok.png: unidirectional\n",
      "oly.png: unidirectional\n",
      "opohto.png: unidirectional\n",
      "oye.png: unidirectional\n",
      "photo.png: unidirectional\n",
      "wow.png: unidirectional\n",
      "yehi.png: unidirectional\n"
     ]
    }
   ],
   "source": [
    "\n",
    "def predict_folder(folder_path):\n",
    "    results = {}\n",
    "    for fname in os.listdir(folder_path):\n",
    "        if not fname.lower().endswith(('.png', '.jpg', '.jpeg')):\n",
    "            continue\n",
    "        img_path = os.path.join(folder_path, fname)\n",
    "        img = Image.open(img_path)\n",
    "        img = transform(img).unsqueeze(0).to(device)\n",
    "        with torch.no_grad():\n",
    "            output = model(img)\n",
    "            _, pred = torch.max(output, 1)\n",
    "        results[fname] = class_names[pred.item()]\n",
    "    return results\n",
    "\n",
    "# Example usage\n",
    "data_dir = \"unData\"  # \n",
    "for folder in os.listdir(data_dir):\n",
    "    folder_path = os.path.join(data_dir, folder)\n",
    "    if os.path.isdir(folder_path):\n",
    "        print(f\"Processing folder: {folder}\")\n",
    "        predictions = predict_folder(folder_path)\n",
    "        for img_name, pred_class in predictions.items():\n",
    "            print(f\"{img_name}: {pred_class}\")\n"
   ]
  },
  {
   "cell_type": "code",
   "execution_count": null,
   "id": "87275acb",
   "metadata": {},
   "outputs": [
    {
     "name": "stdout",
     "output_type": "stream",
     "text": [
      "Prediction: angle_plied fibre orientation\n",
      "Prediction: longitudinal fibre orientation\n",
      "Prediction: transverse fibre orientation\n",
      "Prediction: cross_plied fibre orientation\n"
     ]
    }
   ],
   "source": [
    "from PIL import Image\n",
    "import torch\n",
    "\n",
    "def predict_custom_image(image_path, model, transform, class_names, device):\n",
    "    model.eval()\n",
    "    img = Image.open(image_path)\n",
    "    img = transform(img).unsqueeze(0).to(device)\n",
    "    with torch.no_grad():\n",
    "        output = model(img)\n",
    "        _, pred = torch.max(output, 1)\n",
    "    return class_names[pred.item()]\n",
    "    \n",
    "print(f\"Prediction: {predict_custom_image('angled.png', model, transform, class_names, device)} fibre orientation\")\n",
    "print(f\"Prediction: {predict_custom_image('long.png', model, transform, class_names, device)} fibre orientation\")\n",
    "print(f\"Prediction: {predict_custom_image('trans.png', model, transform, class_names, device)} fibre orientation\")\n",
    "print(f\"Prediction: {predict_custom_image('cross.png', model, transform, class_names, device)} fibre orientation\")"
   ]
  }
 ],
 "metadata": {
  "kernelspec": {
   "display_name": "orient",
   "language": "python",
   "name": "python3"
  },
  "language_info": {
   "codemirror_mode": {
    "name": "ipython",
    "version": 3
   },
   "file_extension": ".py",
   "mimetype": "text/x-python",
   "name": "python",
   "nbconvert_exporter": "python",
   "pygments_lexer": "ipython3",
   "version": "3.10.18"
  }
 },
 "nbformat": 4,
 "nbformat_minor": 5
}
